{
 "cells": [
  {
   "cell_type": "markdown",
   "metadata": {},
   "source": [
    "# Intro to AI - Exercise\n",
    "### Prep Course\n",
    "\n",
    "This is an exercise for the Prep Course of Intro to AI.\n",
    "\n",
    "\n",
    "\n",
    "---\n",
    "\n",
    "## Understanding Jupyter Notebooks\n",
    "\n",
    "The most common programming language used in the field of Artificial Intelligence or Machine Learning is Python.  \n",
    "For quick demonstrations, experiments and debugging it is very handy to use a Jupyter Notebook (this type of document, which you are looking at right now).  \n",
    "Hence, you should be familiar with using such a notebook. RealPython has a good [tutorial](https://realpython.com/jupyter-notebook-introduction/) on how Jupyter Notebooks work (they also have great Python tutorials 😉).\n",
    "\n",
    "Next:\n",
    "- Figure out how to create a Python and a Markdown cell. ([What the hell is Markdown??](https://www.markdownguide.org/basic-syntax/)).\n",
    "- In the Markdown cell you write the text that explains the code. Write an explanation about how you will write program that says hello to the world.\n",
    "- In a Python cell below provide the code to print 'Hello world!'. If you are unfamiliar with Python and its syntax use the web.\n",
    "  \n",
    "  "
   ]
  },
  {
   "cell_type": "markdown",
   "metadata": {},
   "source": [
    "```\n",
    "Solution:\n",
    "The following cell provides the standard example in programming exercises. After running the code in the cell it will output the following string 'Hello world!'.\n",
    "```"
   ]
  },
  {
   "cell_type": "code",
   "execution_count": null,
   "metadata": {},
   "outputs": [],
   "source": [
    "print('Hello world!')"
   ]
  },
  {
   "cell_type": "markdown",
   "metadata": {},
   "source": [
    "## 2. Mindmap of AI\n",
    "\n",
    "- Use a mindmap tool (possibly web-based) to organize your current knowledge of AI. Ideally save your progress, so you can keep updating the mindmap during the course in the future.\n",
    "\n",
    "- What do you know about Artificial Intelligence versus Machine Learning versus Deep Learning? Note it down.\n",
    "\n",
    "- What do you know about the three main paradigms in Machine Learning: supervised learning, unsupervised learning and reinforcement learning."
   ]
  },
  {
   "cell_type": "markdown",
   "metadata": {},
   "source": [
    "`Solution:`  \n",
    "\n",
    "- Artificial Intelligence vs Machine Learning vs Deep Learning\n",
    "\n",
    "<div style=\"text-align: center;\">\n",
    "    <a href=\"https://upload.wikimedia.org/wikipedia/commons/b/bb/AI-ML-DL.svg\">\n",
    "        <img src=\"https://upload.wikimedia.org/wikipedia/commons/b/bb/AI-ML-DL.svg\" alt=\"Description of the image\" width=300px>\n",
    "    </a>\n",
    "</div>\n",
    "\n",
    "- The three main paradigms in Machine Learning\n",
    "\n",
    "\t1.\t**Supervised Learning**:  \n",
    "In supervised learning, the model is trained on a labeled dataset, meaning each training example includes both the input and the correct output. The goal is to learn a mapping from inputs to outputs, so the model can make accurate predictions on new, unseen data.  \n",
    "*Example: Supervised learning is like a teacher providing the correct answers to math problems, and the student (model) learns to solve similar problems in the future.*\n",
    "\n",
    "\t2.\t**Unsupervised Learning**:  \n",
    "In unsupervised learning, the model is given data without labeled outcomes and must find patterns, structures, or relationships within the data on its own. It’s commonly used for clustering or dimensionality reduction.  \n",
    "*Example: Unsupervised learning is like exploring a new city without a map, trying to discover the layout and important landmarks by observing patterns in the environment.*  \n",
    "\n",
    "\t3.\t**Reinforcement Learning**:  \n",
    "Reinforcement learning involves an agent that learns to make decisions by interacting with an environment, receiving rewards or penalties based on the actions it takes (trial and error), and aiming to maximize the cumulative reward over time.  \n",
    "*Example: Reinforcement learning is like training a dog, where the dog learns good behavior by receiving treats for actions that are rewarded and avoiding actions that result in scolding.*\n"
   ]
  },
  {
   "cell_type": "markdown",
   "metadata": {},
   "source": [
    "## 3. Definition of Intelligence\n",
    "\n",
    "Come up with your personal definition of intelligence. Type it into a new markdown cell below. Try to make it as crisp and concise as possible. It does not need to be all-encompassing or generally agreeable. Instead, it should highlight the aspects most important to you. Then discuss your definition with your neighbors and see whether you would stick to your original proposal or whether you tend to modify it based on the discussion."
   ]
  }
 ],
 "metadata": {
  "language_info": {
   "name": "python"
  }
 },
 "nbformat": 4,
 "nbformat_minor": 2
}
