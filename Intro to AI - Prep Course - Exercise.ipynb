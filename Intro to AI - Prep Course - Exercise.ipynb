{
 "cells": [
  {
   "cell_type": "markdown",
   "metadata": {},
   "source": [
    "# Intro to AI - Exercise\n",
    "### Prep Course\n",
    "\n",
    "This is an exercise for the Prep Course of Intro to AI.\n",
    "\n",
    "\n",
    "\n",
    "---\n",
    "\n",
    "## Understanding Jupyter Notebooks\n",
    "\n",
    "The most common programming language used in the field of Artificial Intelligence or Machine Learning is Python.  \n",
    "For quick demonstrations, experiments and debugging it is very handy to use a Jupyter Notebook (this type of document, which you are looking at right now).  \n",
    "Hence, you should be familiar with using such a notebook. RealPython has a good [tutorial](https://realpython.com/jupyter-notebook-introduction/) on how Jupyter Notebooks work (they also have great Python tutorials 😉).\n",
    "\n",
    "Next:\n",
    "- Figure out how to create a Python and a Markdown cell. ([What the hell is Markdown??](https://www.markdownguide.org/basic-syntax/)).\n",
    "- In the Markdown cell you write the text that explains the code. Write an explanation about how you will write program that says hello to the world.\n",
    "- In a Python cell below provide the code to print 'Hello world!'. If you are unfamiliar with Python and its syntax use the web.\n",
    "  \n",
    "  "
   ]
  },
  {
   "cell_type": "markdown",
   "metadata": {},
   "source": [
    "## 2. Mindmap of AI\n",
    "\n",
    "- Use a mindmap tool (possibly web-based) to organize your current knowledge of AI. Ideally save your progress, so you can keep updating the mindmap during the course in the future.\n",
    "\n",
    "- What do you know about Artificial Intelligence versus Machine Learning versus Deep Learning? Note it down.\n",
    "\n",
    "- What do you know about the three main paradigms in Machine Learning: supervised learning, unsupervised learning and reinforcement learning."
   ]
  },
  {
   "cell_type": "markdown",
   "metadata": {},
   "source": [
    "## 3. Definition of Intelligence\n",
    "\n",
    "Come up with your personal definition of intelligence. Type it into a new markdown cell below. Try to make it as crisp and concise as possible. It does not need to be all-encompassing or generally agreeable. Instead, it should highlight the aspects most important to you. Then discuss your definition with your neighbors and see whether you would stick to your original proposal or whether you tend to modify it based on the discussion."
   ]
  }
 ],
 "metadata": {
  "language_info": {
   "name": "python"
  }
 },
 "nbformat": 4,
 "nbformat_minor": 2
}
